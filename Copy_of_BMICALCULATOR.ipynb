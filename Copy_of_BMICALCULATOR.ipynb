{
  "nbformat": 4,
  "nbformat_minor": 0,
  "metadata": {
    "colab": {
      "provenance": [],
      "authorship_tag": "ABX9TyNLXjNhJc3p12YON2feJvnS",
      "include_colab_link": true
    },
    "kernelspec": {
      "name": "python3",
      "display_name": "Python 3"
    },
    "language_info": {
      "name": "python"
    }
  },
  "cells": [
    {
      "cell_type": "markdown",
      "metadata": {
        "id": "view-in-github",
        "colab_type": "text"
      },
      "source": [
        "<a href=\"https://colab.research.google.com/github/Ragu1313/Data/blob/main/Copy_of_BMICALCULATOR.ipynb\" target=\"_parent\"><img src=\"https://colab.research.google.com/assets/colab-badge.svg\" alt=\"Open In Colab\"/></a>"
      ]
    },
    {
      "cell_type": "code",
      "execution_count": null,
      "metadata": {
        "id": "B-ahg5eFU1iV",
        "outputId": "ab024380-9acc-42db-a041-db08e810b93f",
        "colab": {
          "base_uri": "https://localhost:8080/"
        }
      },
      "outputs": [
        {
          "output_type": "stream",
          "name": "stdout",
          "text": [
            "Enter your name ragu\n",
            "Enter Your height in  cm 165\n",
            "Enter Your weight in kg 64\n",
            "ragu, You are normal weight\n"
          ]
        }
      ],
      "source": [
        "#BMICALCULATOR\n",
        "name = input(\"Enter your name \")\n",
        "height = int(input(\"Enter Your height in  cm \"))\n",
        "weight = int(input(\"Enter Your weight in kg \"))\n",
        "BMI = (weight/height/height)*10000\n",
        "if(BMI>0):\n",
        "  if(BMI<18.5):\n",
        "    print(name +\", You are underweight\")\n",
        "  elif(BMI<=24.9):\n",
        "    print(name +\", You are normal weight\")\n",
        "  else:\n",
        "    print(name +\", You are overweight\")\n",
        "else:\n",
        "  print(\"Enter valid details\")"
      ]
    },
    {
      "cell_type": "code",
      "source": [],
      "metadata": {
        "id": "AabCbOtLWwYJ"
      },
      "execution_count": null,
      "outputs": []
    }
  ]
}